{
 "cells": [
  {
   "cell_type": "markdown",
   "id": "15eb9454-f827-496c-b27d-32ae277fecf6",
   "metadata": {},
   "source": [
    "## <div id=\"Première_manipulation\">4. Première manipulation</div>\n",
    "\n",
    "### <div id=\"Chemin\">4. 1. Comprendre les chemins <b>(\"PATH\")</b></div>\n",
    "\n",
    "Avant de commencer à programmer, il est important de comprendre rapidement comment fonctionne votre ordinateur. Pour cela, ouvrez un terminal (pour Mac Os et Linux) ou l'invité de commande (si vous utilisez windows). Nous n'allons pas vous présenter ces outils, qui mériterait à eux seuls plusieurs sessions de formation, mais sachez que l'écran que vous avez devant vous est votre ordinateur sans **interface graphique**. \n",
    "\n",
    "En effet, un ordinateur - et ses applications - comme nous avons l'habitude de l'utiliser utilise une interface graphique avec laquelle nous interragisons pour réaliser des actions : cliquer pour entrer dans un dossier, double cliquer sur un fichier pour l'ouvrir ou pour allumer une application, cliquer-déplacer un fichier... toutes ces actions sont égalements faisables à partir d'une interface non graphique, qu'on peut appeler **verbeuse** (**verbose**), c'est-à-dire une interface ou l'on écrit ce que l'on souhaite réaliser. Ce que l'on a à présent devant nous, est une **interface en ligne de commande**.\n",
    "\n",
    "<div align=\"center\"><img src=\"Ressources/interface_en_ligne_de_commande.PNG\", width=\"1000\"/></div>\n",
    "\n",
    "\n",
    "C'est une des premières interfaces de l'ordinateur et celle qui est la plus pratique pour un développeur confirmé, parce qu'elle permet plus d'effectuer plus d'opérations pour l'utilisateur. Elle permet également de réaliser des scripts, des programmes qui permettent d'automatiser certaines tâches, comme on peut également le faire en python. On peut d'ailleur utiliser python directement dans ces interfaces, c'est ce qu'on appelle la **console** python, ou **l'interpréteur**.\n",
    "\n",
    "<div align=\"center\"><img src=\"Ressources/test_python.PNG\", width=\"1000\"/></div>\n",
    "\n",
    "Mais revenons à nos moutons. Sans être Dozer dans Matrix, on peut facilement comprendre ce qu'il se passe quand on a l'habitude de naviguer dans son ordinateur. En effectuant la commande \"cwd\" (pour current working directory), nous pouvons voir où nous nous situons dans notre ordinateur, nous avons alors un message en sortie qui prend la forme :\n",
    "`Users/Le_nom_de_mon_ordinateur/`\n",
    "Cela signifie que nous nous situons à la racine *relative* de notre ordinateur. Relative car nous ne partons pas de la racine réel de l'ordinateur, mais plutôt au niveau du dossier qui regroupe les documents relatifs à notre session utilisateur. On peut utiliser l'opérateur `~` pour désigner et aller à cette racine relative : \n",
    "\n",
    "<div align=\"center\"><img src=\"Ressources/racine.PNG\", width=\"1000\"/></div>\n",
    "\n",
    "La racine d'un Windows se trouve au sein du fichier `C:/`, pour Mac os et Linux dans le fichier `/`. \n",
    "D'après vous, cette manière de s'orienter ne ressemble-t-elle pas à une manière de naviguer dans votre ordinateur ? Au lieu de cliquer sur un dossier pour y accéder, nous utilisons la commande `cd` (pour change dicrectory), et la commande `ls` (pour list) pour afficher les éléments présents dans ce dossier. On peut naviguer de cette manière de la même manière qu'avec une souris et une interface graphique. \n",
    "Et pourquoi est-ce que je vous raconte tout ça ? Pour vous familiariser avec cette interface, mais aussi pour vuos montrer ce que sont les chemins (ou PATH), dont vous aurez besoin pour importer et exporter des fichiers dans vos scripts et programmes python. Un chemin est cet objet que nous avons vu plus tôt et qui prend la forme `User/Untel/Desktop/Mon_projet_python`, c'est le chemin qui permet à l'ordinateur de comprendre quel fichier on peut télécharger. \n",
    "Comme nous l'avons vu plus tôt, le chemin peut être **absolu**, c'est-à-dire qu'il part de la racine de l'ordinateur, ou **relatif**, c'est-à-dire qu'il part de l'endroit où ce situe le fichier python que vous êtes en train de réaliser. Il prend alors plus souvent cette forme :\n",
    "`./mon_tableau_que_je_veux_charger.csv`\n",
    "Pourquoi le `./` ? Le `.` signifie \"l'endroit où je me trouve dans l'ordinateur\". On peut bien sûr remonter dans la hiérarchie des dossier de l'ordinateur en utilisant les `../`. Les deux points signifient que l'on remette dans le dossier précédent celui où nous nous trouvons. \n",
    "\n",
    "Pour exemple, je vous laisse créer une dossier \"mon_projet\" sur votre bureau. (On peut utiliser la commande `mkdir` (opur make directory) pour celles et ceux qui sont déjà à l'aise avec la navigation. Naviguez alors vers ce dossier : \n",
    "\n",
    "<div align=\"center\"><img src=\"Ressources/navigation1.PNG\", width=\"1000\"/></div>\n",
    "\n",
    "Au sein de ce dossier, j'ai créé en amont un fichier `test.txt`, que l'on peut maintenant voir puisque nous avons naviguer jusqu'à notre dossier \"mon_projet\". À noter que nous ne sommes pas obligés d'utiliser cd pour naviguer un dossier par un dossier, on peut écrire une commande qui prend cette forme, et qui permet d'aller directement au fichier souhaité : \n",
    "`cd Desktop/mon_projet/`\n",
    "\n",
    "On peut ainsi remonter dans l'arborescence de notre ordinateur en utilisant `cd ../`\n",
    "\n",
    "<div align=\"center\"><img src=\"Ressources/navigation2.PNG\", width=\"1000\"/></div>\n",
    "\n",
    "C'est avec cette syntaxe que l'on peut aller chercher un document au sein de notre ordianteur, et en particuiler dans les fichiers que nous allons écrire. Il va vous arriver un certain nombre de fois de récupérer des programmes, ou d'en écrire vous même, tout en ayant déplacer les fichiers que le programme utiliser. Vous serez alors assez familié de l'erreur `FileNotFoundError: [Errno 2] No such file or directory`. Il s'agit très souvent d'un chemin qui a mal été écrit.  \n",
    "\n",
    "**Tips** : Abusez de votre bouton `TAB`. Il vous permet très souvent de vous montrer les fichiers et les dossier de l'endroit où vous vous situez. De plus, il vous sera très utile dans certain IDE, et notamment les carnets Jupyter.\n",
    "\n",
    "### <div id=\"Chemin\">4. 2. Utiliser un Jupyter Notebook</div>\n",
    "\n"
   ]
  },
  {
   "cell_type": "code",
   "execution_count": null,
   "id": "4b3fe129-7198-486a-9090-633ac9994a94",
   "metadata": {},
   "outputs": [],
   "source": []
  }
 ],
 "metadata": {
  "kernelspec": {
   "display_name": "Python 3 (ipykernel)",
   "language": "python",
   "name": "python3"
  },
  "language_info": {
   "codemirror_mode": {
    "name": "ipython",
    "version": 3
   },
   "file_extension": ".py",
   "mimetype": "text/x-python",
   "name": "python",
   "nbconvert_exporter": "python",
   "pygments_lexer": "ipython3",
   "version": "3.9.13"
  }
 },
 "nbformat": 4,
 "nbformat_minor": 5
}
