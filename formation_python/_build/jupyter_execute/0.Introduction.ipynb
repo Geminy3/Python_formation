{
 "cells": [
  {
   "cell_type": "markdown",
   "id": "011af624-9caa-4f6c-bbf9-eeff294f8b00",
   "metadata": {},
   "source": [
    "## <div id=\"Introduction\">1. Introduction</div>\n",
    "\n",
    "Cette formation a pour objectif de donner un aperçu des **fonctionnalités du langage de programmation Python appliqué aux Sciences Humaines et sociales**.\n",
    "\n",
    "La programmation informatique, et l'algorithmie, ne sont pas nécessairement complexe : le large ensemble des outils qui constituent l'informatique dépasse largement la simple programmation informatique (internet, serveur, réseaux, matériel,...) et on tendance à donner une dimension inaccessible aux langages et à l'informatique de manière générale. La programmation est avant tout est un outil qui permet d'utiliser la puissance et la logique d'un ordinateur afin de produire des résultats attendus (ou non !). C'est avant tout avec cette logique de fonctionnement, ce langage en quelque sorte, qu'il s'agit de se familiariser.\n",
    "\n",
    "Python est un très bon outils d'initatiation en ce sens : il offre à la fois un degré assez ***haut niveau*** de langage, tout en évitant ***les processus de compilations***. Si ces termes ne vous sont pas familier, ne paniquez pas ! Nous allons voir ensemble comment fonctione un langage de programmation, et de manière plus général, comment un langage permet de donner des **ordres** à un ordinateur.\n",
    "\n",
    "### <div id=\"Moi_je_veux_programmer_comme_Mr._Robot\">1. 1. Je veux programmer comme Mr. Robot</div>\n",
    "\n",
    "L'objectif ici est d'acquérir **les bases** du langage mais également **les principes élémentaires d'algorithmie et de manipulation de données** que l'on retrouve dans tous les autres langages informatiques. A côté de ce travail sur le langage à proprement parler, nous évoquerons également nombre d'**éléments pratiques** bien utiles lorsqu'on se lance dans l'apprentissage de la programmation (comment lire une documentation technique, comment débugger son script, où trouver de l'aide, etc.) : de quoi vous permettre ensuite de voler de vos propres ailes.\n",
    "\n",
    "Ecrire des programmes et des petits scripts pour effectuer des tâches récurrentes est un processus qu'il faut, pour mieux l'appréhender, **découper en séries de petites opérations simples** s'imbriquant les unes les autres. En abordant la programmation de cette façon, elle n'a rien de particulièrement complexe en soi et se trouve à la portée de n'importe qui capable de manipuler un langage simple et d'imbriquer des éléments logiques entre eux.\n",
    "\n",
    "Dans cette perspective, **Jupyter** constitue un outil précieux et utile pour expérimenter, faire des tests sans avoir à bousculer et réécrire tout son code, procéder au fur et à mesure en écrivant chaque étape de notre code dans une cellule spécifique. \n",
    "\n",
    "Dans l'optique d'inviter à intégrer une pratique régulière du code dans son activité de recherche, cette formation passera essentiellement par de la pratique, à travers des exercices corrigés qui rythmeront toute la durée de la formation. On ne le répète jamais assez, mais la programmation passe avant tout par un entraînement pratique, et la répétition des tâches simples. Ce n'est qu'en utilisant python pour vos projets qui vous en trouverez une utilité et que vous apprendrez rapidement à vous en servir.\n",
    "\n",
    "### <div id=\"Another One\">1. 2. Another One</div>"
   ]
  }
 ],
 "metadata": {
  "kernelspec": {
   "display_name": "Python 3 (ipykernel)",
   "language": "python",
   "name": "python3"
  },
  "language_info": {
   "codemirror_mode": {
    "name": "ipython",
    "version": 3
   },
   "file_extension": ".py",
   "mimetype": "text/x-python",
   "name": "python",
   "nbconvert_exporter": "python",
   "pygments_lexer": "ipython3",
   "version": "3.9.13"
  }
 },
 "nbformat": 4,
 "nbformat_minor": 5
}