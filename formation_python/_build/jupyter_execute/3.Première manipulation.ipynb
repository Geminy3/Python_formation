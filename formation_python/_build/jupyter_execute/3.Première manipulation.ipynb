{
 "cells": [
  {
   "cell_type": "markdown",
   "id": "15eb9454-f827-496c-b27d-32ae277fecf6",
   "metadata": {},
   "source": [
    "## <div id=\"Première_manipulation\">4. Premières manipulations</div>\n",
    "\n",
    "### <div id=\"Chemin\">4. 1. Comprendre les chemins <b>(\"PATH\")</b></div>"
   ]
  }
 ],
 "metadata": {
  "kernelspec": {
   "display_name": "Python 3 (ipykernel)",
   "language": "python",
   "name": "python3"
  },
  "language_info": {
   "codemirror_mode": {
    "name": "ipython",
    "version": 3
   },
   "file_extension": ".py",
   "mimetype": "text/x-python",
   "name": "python",
   "nbconvert_exporter": "python",
   "pygments_lexer": "ipython3",
   "version": "3.9.13"
  }
 },
 "nbformat": 4,
 "nbformat_minor": 5
}