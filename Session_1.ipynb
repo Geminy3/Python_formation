{
 "cells": [
  {
   "cell_type": "markdown",
   "id": "c25f438d-e67a-4cac-9a72-3601a880b6d4",
   "metadata": {},
   "source": [
    "# SESSION 1 - Python, l'ordinateur et l'algorithmie"
   ]
  },
  {
   "cell_type": "code",
   "execution_count": null,
   "id": "bb7b04a4-98f8-4f9e-bb85-c46baf0cee60",
   "metadata": {},
   "outputs": [],
   "source": []
  }
 ],
 "metadata": {
  "kernelspec": {
   "display_name": "Python 3 (ipykernel)",
   "language": "python",
   "name": "python3"
  },
  "language_info": {
   "codemirror_mode": {
    "name": "ipython",
    "version": 3
   },
   "file_extension": ".py",
   "mimetype": "text/x-python",
   "name": "python",
   "nbconvert_exporter": "python",
   "pygments_lexer": "ipython3",
   "version": "3.9.13"
  }
 },
 "nbformat": 4,
 "nbformat_minor": 5
}
